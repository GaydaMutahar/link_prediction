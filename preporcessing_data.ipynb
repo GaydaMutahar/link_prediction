{
 "cells": [
  {
   "cell_type": "code",
   "execution_count": 1,
   "metadata": {},
   "outputs": [],
   "source": [
    "#import packages and libraries  \n",
    "import csv\n",
    "import sys\n",
    "import pandas as pd\n",
    "import matplotlib.pyplot as plt\n",
    "import seaborn as sns\n",
    "import numpy as np\n",
    "import random\n",
    "import networkx as nx\n",
    "from tqdm import tqdm\n",
    "import re\n",
    "import os\n",
    "import pickle\n",
    "\n",
    "from sklearn.linear_model import LogisticRegression\n",
    "from sklearn.metrics import classification_report, roc_auc_score\n",
    "from sklearn.model_selection import train_test_split\n",
    "from sklearn.metrics import confusion_matrix"
   ]
  },
  {
   "cell_type": "markdown",
   "metadata": {},
   "source": [
    "# Exploratory Data Analysis "
   ]
  },
  {
   "cell_type": "code",
   "execution_count": 3,
   "metadata": {},
   "outputs": [
    {
     "name": "stdout",
     "output_type": "stream",
     "text": [
      "['540762', '1912140', '1537559', '3091331', '2757277', '3237295', '1070876', '4008078', '1824878', '1005927', '2703564', '2519640', '3370407', '3883660', '2173241', '1726071', '2451654', '3906434', '2635670', '3294915', '2763417', '1116703', '261881', '2404108', '3521384', '2299939', '2989624', '4361289', '3314815', '3367669', '641925', '2862019', '1274046', '4316209', '2463912', '3043', '952976', '3532986', '415955', '4366854', '267263', '1199298', '1840280', '581535', '4241326', '4267183', '2881471', '2737722', '4286284', '333573', '1594907', '3056533', '2163471', '3712732', '2672578', '1209171', '1003239', '4818002', '3201437', '1892251', '2800259', '141083', '2558493', '1655093', '4313335', '738638', '3702208', '1124524', '1436216', '3206499', '1462439', '2345899', '4131275', '1169783', '2152173', '4174165', '141067', '3118623', '1521082', '3912913', '299865', '193736', '3562621', '94742', '2464827', '1719625', '557514', '1313296', '2329535', '3662772', '3980998', '695775', '381025', '3349332', '3704614', '1392121', '3767319', '1157186', '4230834', '1411138', '1312847', '1818911', '3820661', '1927780', '400117', '1853195', '3994838', '1327933', '3386592', '3766535', '343833', '4582129', '892512', '3316576', '3011333', '2673351', '746711', '2770509', '3670190', '4208653', '1970076', '2183328', '2492020', '289918', '1436562', '2335027', '3133671', '977117', '851113', '4467395', '611426', '3142255', '4575690', '3575966', '661185', '3541155', '4762204', '4075641', '69174', '506428', '151344', '3586135', '3886121', '1737397']\n",
      "['2129843', '65840', '3414168', '4523797', '2851163', '4321895', '1319809', '2391178', '1888423', '1150919', '1241159', '2095783', '3624714', '1006924', '2849738', '2486610', '3676150', '3361377', '2000752', '4027460', '268451', '4272512']\n"
     ]
    },
    {
     "name": "stderr",
     "output_type": "stream",
     "text": [
      "IOPub data rate exceeded.\n",
      "The notebook server will temporarily stop sending output\n",
      "to the client in order to avoid crashing it.\n",
      "To change this limit, set the config variable\n",
      "`--NotebookApp.iopub_data_rate_limit`.\n",
      "\n",
      "Current values:\n",
      "NotebookApp.iopub_data_rate_limit=1000000.0 (bytes/sec)\n",
      "NotebookApp.rate_limit_window=3.0 (secs)\n",
      "\n"
     ]
    }
   ],
   "source": [
    "#read the raw data to see and check the training data \n",
    "with open('train.txt', newline = '') as train_data:                                                                                          \n",
    "    train_reader = csv.reader(train_data, delimiter='\\t')\n",
    "    for train_data in train_reader:\n",
    "        print(train_data)"
   ]
  },
  {
   "cell_type": "code",
   "execution_count": null,
   "metadata": {},
   "outputs": [],
   "source": [
    "# convert the training data txt file from to csv (optional)\n",
    "#lstFile = ('train.txt'.split(\".\"))\n",
    "#file =  open(\"train.txt\", \"r\", encoding= 'latin-1')\n",
    "#lstInput = []\n",
    "#for line in file:\n",
    "#    try:\n",
    " #       lstLine = line.replace(\"\\n\",\"\").split(\"\\t\")\n",
    "#    except Exception as e :\n",
    " #       print (e)\n",
    "#        pass\n",
    "#    lstInput.append(lstLine)\n",
    "#file.close()\n",
    "        \n",
    "    \n",
    "#outputFile = open(lstFile [0]+\"train_dataset.csv\", \"w\", encoding = 'ascii')\n",
    "#for line in lstInput:\n",
    "#        writeLine = \",\".join(line)\n",
    "#        outputFile.write(writeLine + \"\\n\")\n",
    "        \n",
    "#outputFile.close()"
   ]
  },
  {
   "cell_type": "code",
   "execution_count": null,
   "metadata": {},
   "outputs": [],
   "source": [
    "#col_names = [1,2,3,4,5, ...]\n",
    "#df = pd.read_csv(\"train_dataset.csv\", header=None) \n",
    "# Preview the first 5 lines of the loaded data \n",
    "#pd.set_option('display.max_columns',None)\n",
    "#display(df)"
   ]
  },
  {
   "cell_type": "code",
   "execution_count": 2,
   "metadata": {},
   "outputs": [],
   "source": [
    "#Extract the directed graph from the raw training data to understand the data\n",
    "with open('train.txt', 'r') as train_data:\n",
    "        G=nx.DiGraph() # directed graph\n",
    "        for line in train_data:\n",
    "            neighbours=[int(i) for i in line.split()]\n",
    "            neighbour_tuples=[(neighbours[0],neighbours[i+1]) for i in range(len(neighbours)-1)]\n",
    "            G.add_edges_from(neighbour_tuples)"
   ]
  },
  {
   "cell_type": "code",
   "execution_count": 3,
   "metadata": {},
   "outputs": [
    {
     "name": "stdout",
     "output_type": "stream",
     "text": [
      "Name: \n",
      "Type: DiGraph\n",
      "Number of nodes: 4867136\n",
      "Number of edges: 23946602\n",
      "Average in degree:   4.9201\n",
      "Average out degree:   4.9201\n"
     ]
    }
   ],
   "source": [
    "print(nx.info(G))"
   ]
  },
  {
   "cell_type": "code",
   "execution_count": 25,
   "metadata": {},
   "outputs": [
    {
     "data": {
      "text/plain": [
       "[(3547024, 2888992),\n",
       " (3547024, 179459),\n",
       " (3547024, 492114),\n",
       " (3547024, 2418495),\n",
       " (3547024, 2235094),\n",
       " (3547024, 1408134),\n",
       " (3547024, 554490),\n",
       " (3547024, 1997720),\n",
       " (3547024, 4382216),\n",
       " (3547024, 3136622),\n",
       " (3547024, 4596817),\n",
       " (3547024, 873218),\n",
       " (3547024, 3407290),\n",
       " (3547024, 168122),\n",
       " (3547024, 4496572),\n",
       " (3547024, 4551758),\n",
       " (3547024, 3477263),\n",
       " (3547024, 3916163),\n",
       " (3547024, 2953672),\n",
       " (3547024, 113603),\n",
       " (3547024, 4545022),\n",
       " (3547024, 1461794),\n",
       " (3547024, 856265),\n",
       " (3547024, 2562678),\n",
       " (3547024, 991648),\n",
       " (3547024, 4013682),\n",
       " (3547024, 1853136),\n",
       " (3547024, 4780148),\n",
       " (3547024, 1093702),\n",
       " (3547024, 288019),\n",
       " (3547024, 3420937),\n",
       " (3547024, 1526027),\n",
       " (3547024, 2671044),\n",
       " (3547024, 895854),\n",
       " (3547024, 3387648),\n",
       " (3547024, 1594835),\n",
       " (3547024, 4019767),\n",
       " (3547024, 2050523),\n",
       " (3547024, 4000575),\n",
       " (3547024, 1098659),\n",
       " (3547024, 4691571),\n",
       " (3547024, 3977270),\n",
       " (3547024, 4451299),\n",
       " (3547024, 4064320),\n",
       " (3547024, 191183),\n",
       " (3547024, 452329),\n",
       " (3547024, 3833283),\n",
       " (3547024, 1108982),\n",
       " (3547024, 3269304),\n",
       " (3547024, 2699948),\n",
       " (3547024, 1392995),\n",
       " (3547024, 4377170),\n",
       " (3547024, 3341660),\n",
       " (3547024, 1878499),\n",
       " (3547024, 4866537),\n",
       " (3547024, 2973692),\n",
       " (3547024, 2831094),\n",
       " (3547024, 2416804),\n",
       " (3547024, 1075576),\n",
       " (3547024, 4549841),\n",
       " (3547024, 1135647),\n",
       " (3547024, 807274),\n",
       " (3547024, 3897045)]"
      ]
     },
     "execution_count": 25,
     "metadata": {},
     "output_type": "execute_result"
    }
   ],
   "source": [
    "neighbour_tuples"
   ]
  },
  {
   "cell_type": "code",
   "execution_count": 26,
   "metadata": {},
   "outputs": [],
   "source": [
    "# # build the pair nodes\n",
    "# with open(\"train.txt\", \"r\") as relation_map:\n",
    "#     relation_mapping = dict()\n",
    "#     for relation in relation_map:\n",
    "#         aid, *nodes = map(int, relation.split())\n",
    "#         relation_mapping.update({aid: nodes})\n",
    "#     train = [[], []]\n",
    "#     for n1, ln2 in relation_mapping.items():\n",
    "#         for p_ln2 in ln2:\n",
    "#             train[0].append(n1)\n",
    "#             train[1].append(p_ln2)\n",
    "#     train = pd.DataFrame({\"source\": train[0], \"sink\": train[1]})\n",
    "#     train[\"source\"] = pd.to_numeric(train[\"sink\"])\n",
    "#     train[\"source\"] = pd.to_numeric(train[\"sink\"])\n",
    "#     g = nx.from_pandas_edgelist(train, \"source\", \"sink\", create_using=nx.DiGraph())"
   ]
  },
  {
   "cell_type": "code",
   "execution_count": 29,
   "metadata": {},
   "outputs": [
    {
     "data": {
      "text/plain": [
       "23946602"
      ]
     },
     "execution_count": 29,
     "metadata": {},
     "output_type": "execute_result"
    }
   ],
   "source": [
    "node_counts = {}\n",
    "node_sets = {}\n",
    "pairs = []\n",
    "with open('train.txt', 'rt') as f:\n",
    "    line = f.readline()\n",
    "    while line:\n",
    "        numbers = line.split('\\t')\n",
    "        source_id = int(numbers[0])\n",
    "        followers_nodes = {int(item) for item in numbers[1:]}\n",
    "        node_counts[source_id] = len(followers_nodes)\n",
    "        node_sets[source_id] = followers_nodes\n",
    "        for sink_id in followers_nodes:\n",
    "            pairs.append((source_id, sink_id)) \n",
    "        line = f.readline()\n",
    "len(pairs)"
   ]
  },
  {
   "cell_type": "code",
   "execution_count": 33,
   "metadata": {},
   "outputs": [],
   "source": [
    "train_pairs = pd.DataFrame(pairs, columns=['source', 'sink'])\n",
    "sink_nodes = set(pair[1] for pair in pairs)\n",
    "source_nodes = set(node_counts.keys())\n",
    "all_nodes = sink_nodes.union(source_nodes)"
   ]
  },
  {
   "cell_type": "code",
   "execution_count": 34,
   "metadata": {},
   "outputs": [
    {
     "data": {
      "text/html": [
       "<div>\n",
       "<style scoped>\n",
       "    .dataframe tbody tr th:only-of-type {\n",
       "        vertical-align: middle;\n",
       "    }\n",
       "\n",
       "    .dataframe tbody tr th {\n",
       "        vertical-align: top;\n",
       "    }\n",
       "\n",
       "    .dataframe thead th {\n",
       "        text-align: right;\n",
       "    }\n",
       "</style>\n",
       "<table border=\"1\" class=\"dataframe\">\n",
       "  <thead>\n",
       "    <tr style=\"text-align: right;\">\n",
       "      <th></th>\n",
       "      <th>source</th>\n",
       "      <th>sink</th>\n",
       "    </tr>\n",
       "  </thead>\n",
       "  <tbody>\n",
       "    <tr>\n",
       "      <th>0</th>\n",
       "      <td>540762</td>\n",
       "      <td>4366854</td>\n",
       "    </tr>\n",
       "    <tr>\n",
       "      <th>1</th>\n",
       "      <td>540762</td>\n",
       "      <td>4208653</td>\n",
       "    </tr>\n",
       "    <tr>\n",
       "      <th>2</th>\n",
       "      <td>540762</td>\n",
       "      <td>1313296</td>\n",
       "    </tr>\n",
       "    <tr>\n",
       "      <th>3</th>\n",
       "      <td>540762</td>\n",
       "      <td>94742</td>\n",
       "    </tr>\n",
       "    <tr>\n",
       "      <th>4</th>\n",
       "      <td>540762</td>\n",
       "      <td>1537559</td>\n",
       "    </tr>\n",
       "    <tr>\n",
       "      <th>...</th>\n",
       "      <td>...</td>\n",
       "      <td>...</td>\n",
       "    </tr>\n",
       "    <tr>\n",
       "      <th>23946597</th>\n",
       "      <td>3547024</td>\n",
       "      <td>1108982</td>\n",
       "    </tr>\n",
       "    <tr>\n",
       "      <th>23946598</th>\n",
       "      <td>3547024</td>\n",
       "      <td>2831094</td>\n",
       "    </tr>\n",
       "    <tr>\n",
       "      <th>23946599</th>\n",
       "      <td>3547024</td>\n",
       "      <td>554490</td>\n",
       "    </tr>\n",
       "    <tr>\n",
       "      <th>23946600</th>\n",
       "      <td>3547024</td>\n",
       "      <td>2973692</td>\n",
       "    </tr>\n",
       "    <tr>\n",
       "      <th>23946601</th>\n",
       "      <td>3547024</td>\n",
       "      <td>4545022</td>\n",
       "    </tr>\n",
       "  </tbody>\n",
       "</table>\n",
       "<p>23946602 rows × 2 columns</p>\n",
       "</div>"
      ],
      "text/plain": [
       "           source     sink\n",
       "0          540762  4366854\n",
       "1          540762  4208653\n",
       "2          540762  1313296\n",
       "3          540762    94742\n",
       "4          540762  1537559\n",
       "...           ...      ...\n",
       "23946597  3547024  1108982\n",
       "23946598  3547024  2831094\n",
       "23946599  3547024   554490\n",
       "23946600  3547024  2973692\n",
       "23946601  3547024  4545022\n",
       "\n",
       "[23946602 rows x 2 columns]"
      ]
     },
     "execution_count": 34,
     "metadata": {},
     "output_type": "execute_result"
    }
   ],
   "source": [
    "train_pairs"
   ]
  },
  {
   "cell_type": "code",
   "execution_count": 35,
   "metadata": {},
   "outputs": [
    {
     "data": {
      "text/plain": [
       "23946602"
      ]
     },
     "execution_count": 35,
     "metadata": {},
     "output_type": "execute_result"
    }
   ],
   "source": [
    "len(train_pairs)"
   ]
  },
  {
   "cell_type": "code",
   "execution_count": 36,
   "metadata": {},
   "outputs": [],
   "source": [
    "# get the raw test data\n",
    "def get_test_samples():\n",
    "    with open('test-public.txt') as test:\n",
    "        test_edges = []\n",
    "        for line in test:\n",
    "            edge_list = line.split()\n",
    "            try:\n",
    "                test_edges.append((int(edge_list[1]), int(edge_list[2])))\n",
    "            except:\n",
    "                pass\n",
    "        return test_edges"
   ]
  },
  {
   "cell_type": "code",
   "execution_count": 37,
   "metadata": {},
   "outputs": [],
   "source": [
    "#get the test as pairs\n",
    "test_samples = get_test_samples()"
   ]
  },
  {
   "cell_type": "code",
   "execution_count": 38,
   "metadata": {},
   "outputs": [
    {
     "data": {
      "text/html": [
       "<div>\n",
       "<style scoped>\n",
       "    .dataframe tbody tr th:only-of-type {\n",
       "        vertical-align: middle;\n",
       "    }\n",
       "\n",
       "    .dataframe tbody tr th {\n",
       "        vertical-align: top;\n",
       "    }\n",
       "\n",
       "    .dataframe thead th {\n",
       "        text-align: right;\n",
       "    }\n",
       "</style>\n",
       "<table border=\"1\" class=\"dataframe\">\n",
       "  <thead>\n",
       "    <tr style=\"text-align: right;\">\n",
       "      <th></th>\n",
       "      <th>source</th>\n",
       "      <th>sink</th>\n",
       "    </tr>\n",
       "  </thead>\n",
       "  <tbody>\n",
       "    <tr>\n",
       "      <th>0</th>\n",
       "      <td>3563811</td>\n",
       "      <td>3600160</td>\n",
       "    </tr>\n",
       "    <tr>\n",
       "      <th>1</th>\n",
       "      <td>2052043</td>\n",
       "      <td>1401960</td>\n",
       "    </tr>\n",
       "    <tr>\n",
       "      <th>2</th>\n",
       "      <td>4517994</td>\n",
       "      <td>1690636</td>\n",
       "    </tr>\n",
       "    <tr>\n",
       "      <th>3</th>\n",
       "      <td>1660006</td>\n",
       "      <td>4349447</td>\n",
       "    </tr>\n",
       "    <tr>\n",
       "      <th>4</th>\n",
       "      <td>581111</td>\n",
       "      <td>1882617</td>\n",
       "    </tr>\n",
       "    <tr>\n",
       "      <th>...</th>\n",
       "      <td>...</td>\n",
       "      <td>...</td>\n",
       "    </tr>\n",
       "    <tr>\n",
       "      <th>1995</th>\n",
       "      <td>1461386</td>\n",
       "      <td>2341683</td>\n",
       "    </tr>\n",
       "    <tr>\n",
       "      <th>1996</th>\n",
       "      <td>4057755</td>\n",
       "      <td>1871227</td>\n",
       "    </tr>\n",
       "    <tr>\n",
       "      <th>1997</th>\n",
       "      <td>4242514</td>\n",
       "      <td>1413468</td>\n",
       "    </tr>\n",
       "    <tr>\n",
       "      <th>1998</th>\n",
       "      <td>555531</td>\n",
       "      <td>1290080</td>\n",
       "    </tr>\n",
       "    <tr>\n",
       "      <th>1999</th>\n",
       "      <td>1707829</td>\n",
       "      <td>2373045</td>\n",
       "    </tr>\n",
       "  </tbody>\n",
       "</table>\n",
       "<p>2000 rows × 2 columns</p>\n",
       "</div>"
      ],
      "text/plain": [
       "       source     sink\n",
       "0     3563811  3600160\n",
       "1     2052043  1401960\n",
       "2     4517994  1690636\n",
       "3     1660006  4349447\n",
       "4      581111  1882617\n",
       "...       ...      ...\n",
       "1995  1461386  2341683\n",
       "1996  4057755  1871227\n",
       "1997  4242514  1413468\n",
       "1998   555531  1290080\n",
       "1999  1707829  2373045\n",
       "\n",
       "[2000 rows x 2 columns]"
      ]
     },
     "execution_count": 38,
     "metadata": {},
     "output_type": "execute_result"
    }
   ],
   "source": [
    "# convert the list of pairs in the test set to df\n",
    "df_test = pd.DataFrame(test_samples,columns =['source','sink'])  \n",
    "df_test"
   ]
  },
  {
   "cell_type": "code",
   "execution_count": 68,
   "metadata": {},
   "outputs": [],
   "source": [
    "#save the test data to csv\n",
    "df_test.to_csv('final_test.csv' ,header=False,index=False)"
   ]
  },
  {
   "cell_type": "code",
   "execution_count": 80,
   "metadata": {},
   "outputs": [],
   "source": [
    "with open('final_test.csv', 'r') as test_data:\n",
    "        Gtest=nx.DiGraph() # directed graph\n",
    "        Gtest.add_edges_from(test_samples)"
   ]
  },
  {
   "cell_type": "code",
   "execution_count": 81,
   "metadata": {},
   "outputs": [
    {
     "name": "stdout",
     "output_type": "stream",
     "text": [
      "Name: \n",
      "Type: DiGraph\n",
      "Number of nodes: 3948\n",
      "Number of edges: 2000\n",
      "Average in degree:   0.5066\n",
      "Average out degree:   0.5066\n"
     ]
    }
   ],
   "source": [
    "print(nx.info(Gtest))"
   ]
  },
  {
   "cell_type": "code",
   "execution_count": 39,
   "metadata": {},
   "outputs": [],
   "source": [
    "#get a complete training data frame as pairs in csv form\n",
    "train_pairs.to_csv('train_pairs.csv')"
   ]
  },
  {
   "cell_type": "code",
   "execution_count": 40,
   "metadata": {},
   "outputs": [],
   "source": [
    "# save training data frame as csv without headers to perform EDA with the help of networkx \n",
    "train_pairs.to_csv('train_noheader.csv',header=False,index=False)"
   ]
  },
  {
   "cell_type": "code",
   "execution_count": 41,
   "metadata": {},
   "outputs": [],
   "source": [
    "# assig link indicator to 1 for the positive training dataset \n",
    "train_df = train_pairs.assign (link_indicator = 1)"
   ]
  },
  {
   "cell_type": "code",
   "execution_count": 42,
   "metadata": {},
   "outputs": [
    {
     "data": {
      "text/html": [
       "<div>\n",
       "<style scoped>\n",
       "    .dataframe tbody tr th:only-of-type {\n",
       "        vertical-align: middle;\n",
       "    }\n",
       "\n",
       "    .dataframe tbody tr th {\n",
       "        vertical-align: top;\n",
       "    }\n",
       "\n",
       "    .dataframe thead th {\n",
       "        text-align: right;\n",
       "    }\n",
       "</style>\n",
       "<table border=\"1\" class=\"dataframe\">\n",
       "  <thead>\n",
       "    <tr style=\"text-align: right;\">\n",
       "      <th></th>\n",
       "      <th>source</th>\n",
       "      <th>sink</th>\n",
       "      <th>link_indicator</th>\n",
       "    </tr>\n",
       "  </thead>\n",
       "  <tbody>\n",
       "    <tr>\n",
       "      <th>0</th>\n",
       "      <td>540762</td>\n",
       "      <td>4366854</td>\n",
       "      <td>1</td>\n",
       "    </tr>\n",
       "    <tr>\n",
       "      <th>1</th>\n",
       "      <td>540762</td>\n",
       "      <td>4208653</td>\n",
       "      <td>1</td>\n",
       "    </tr>\n",
       "    <tr>\n",
       "      <th>2</th>\n",
       "      <td>540762</td>\n",
       "      <td>1313296</td>\n",
       "      <td>1</td>\n",
       "    </tr>\n",
       "    <tr>\n",
       "      <th>3</th>\n",
       "      <td>540762</td>\n",
       "      <td>94742</td>\n",
       "      <td>1</td>\n",
       "    </tr>\n",
       "    <tr>\n",
       "      <th>4</th>\n",
       "      <td>540762</td>\n",
       "      <td>1537559</td>\n",
       "      <td>1</td>\n",
       "    </tr>\n",
       "    <tr>\n",
       "      <th>...</th>\n",
       "      <td>...</td>\n",
       "      <td>...</td>\n",
       "      <td>...</td>\n",
       "    </tr>\n",
       "    <tr>\n",
       "      <th>23946597</th>\n",
       "      <td>3547024</td>\n",
       "      <td>1108982</td>\n",
       "      <td>1</td>\n",
       "    </tr>\n",
       "    <tr>\n",
       "      <th>23946598</th>\n",
       "      <td>3547024</td>\n",
       "      <td>2831094</td>\n",
       "      <td>1</td>\n",
       "    </tr>\n",
       "    <tr>\n",
       "      <th>23946599</th>\n",
       "      <td>3547024</td>\n",
       "      <td>554490</td>\n",
       "      <td>1</td>\n",
       "    </tr>\n",
       "    <tr>\n",
       "      <th>23946600</th>\n",
       "      <td>3547024</td>\n",
       "      <td>2973692</td>\n",
       "      <td>1</td>\n",
       "    </tr>\n",
       "    <tr>\n",
       "      <th>23946601</th>\n",
       "      <td>3547024</td>\n",
       "      <td>4545022</td>\n",
       "      <td>1</td>\n",
       "    </tr>\n",
       "  </tbody>\n",
       "</table>\n",
       "<p>23946602 rows × 3 columns</p>\n",
       "</div>"
      ],
      "text/plain": [
       "           source     sink  link_indicator\n",
       "0          540762  4366854               1\n",
       "1          540762  4208653               1\n",
       "2          540762  1313296               1\n",
       "3          540762    94742               1\n",
       "4          540762  1537559               1\n",
       "...           ...      ...             ...\n",
       "23946597  3547024  1108982               1\n",
       "23946598  3547024  2831094               1\n",
       "23946599  3547024   554490               1\n",
       "23946600  3547024  2973692               1\n",
       "23946601  3547024  4545022               1\n",
       "\n",
       "[23946602 rows x 3 columns]"
      ]
     },
     "execution_count": 42,
     "metadata": {},
     "output_type": "execute_result"
    }
   ],
   "source": [
    "train_df"
   ]
  },
  {
   "cell_type": "code",
   "execution_count": 43,
   "metadata": {},
   "outputs": [
    {
     "name": "stdout",
     "output_type": "stream",
     "text": [
      "The number of unique persons 4867136\n"
     ]
    }
   ],
   "source": [
    "# No of Unique persons \n",
    "print(\"The number of unique persons\",len(G.nodes()))"
   ]
  },
  {
   "cell_type": "code",
   "execution_count": 84,
   "metadata": {},
   "outputs": [
    {
     "data": {
      "image/png": "[encoded data removed]",
      "text/plain": [
       "<Figure size 720x432 with 1 Axes>"
      ]
     },
     "metadata": {},
     "output_type": "display_data"
    }
   ],
   "source": [
    "# Number of followers per person\n",
    "indegree_dist = list(dict(G.in_degree()).values())\n",
    "indegree_dist.sort()\n",
    "plt.figure(figsize=(10,6))\n",
    "plt.plot(indegree_dist)\n",
    "plt.xlabel('Index No')\n",
    "plt.ylabel('No Of Followers')\n",
    "plt.show()"
   ]
  },
  {
   "cell_type": "code",
   "execution_count": 45,
   "metadata": {},
   "outputs": [
    {
     "name": "stdout",
     "output_type": "stream",
     "text": [
      "90 percentile value is 7.0\n",
      "91 percentile value is 8.0\n",
      "92 percentile value is 10.0\n",
      "93 percentile value is 11.0\n",
      "94 percentile value is 14.0\n",
      "95 percentile value is 17.0\n",
      "96 percentile value is 23.0\n",
      "97 percentile value is 31.0\n",
      "98 percentile value is 44.0\n",
      "99 percentile value is 71.0\n",
      "100 percentile value is 4841.0\n"
     ]
    }
   ],
   "source": [
    "### 90-100 percentile\n",
    "for i in range(0,11):\n",
    "    print(90+i,'percentile value is',np.percentile(indegree_dist,90+i))\n"
   ]
  },
  {
   "cell_type": "code",
   "execution_count": 85,
   "metadata": {},
   "outputs": [
    {
     "data": {
      "image/png": "[encoded data removed]",
      "text/plain": [
       "<Figure size 720x432 with 1 Axes>"
      ]
     },
     "metadata": {},
     "output_type": "display_data"
    }
   ],
   "source": [
    "# Number of followers per person in test\n",
    "indegree_dist_test = list(dict(Gtest.in_degree()).values())\n",
    "indegree_dist.sort()\n",
    "plt.figure(figsize=(10,6))\n",
    "plt.plot(indegree_dist_test)\n",
    "plt.xlabel('Index No')\n",
    "plt.ylabel('No Of Followers')\n",
    "plt.show()\n"
   ]
  },
  {
   "cell_type": "code",
   "execution_count": 86,
   "metadata": {},
   "outputs": [
    {
     "name": "stdout",
     "output_type": "stream",
     "text": [
      "90 percentile value is 1.0\n",
      "91 percentile value is 1.0\n",
      "92 percentile value is 1.0\n",
      "93 percentile value is 1.0\n",
      "94 percentile value is 1.0\n",
      "95 percentile value is 1.0\n",
      "96 percentile value is 1.0\n",
      "97 percentile value is 1.0\n",
      "98 percentile value is 1.0\n",
      "99 percentile value is 1.0\n",
      "100 percentile value is 3.0\n"
     ]
    }
   ],
   "source": [
    "### 90-100 percentile in test\n",
    "for i in range(0,11):\n",
    "    print(90+i,'percentile value is',np.percentile(indegree_dist_test,90+i))"
   ]
  },
  {
   "cell_type": "code",
   "execution_count": 87,
   "metadata": {},
   "outputs": [
    {
     "data": {
      "image/png": "[encoded data removed]",
      "text/plain": [
       "<Figure size 842.4x595.44 with 1 Axes>"
      ]
     },
     "metadata": {},
     "output_type": "display_data"
    }
   ],
   "source": [
    "%matplotlib inline\n",
    "sns.set_style('ticks')\n",
    "fig, ax = plt.subplots()\n",
    "fig.set_size_inches(11.7, 8.27)\n",
    "sns.distplot(indegree_dist_test, color='#16A085')\n",
    "plt.xlabel('PDF of Indegree')\n",
    "sns.despine()\n",
    "#plt.show()"
   ]
  },
  {
   "cell_type": "code",
   "execution_count": 46,
   "metadata": {},
   "outputs": [
    {
     "name": "stdout",
     "output_type": "stream",
     "text": [
      "99.1 percentile value is 76.0\n",
      "99.2 percentile value is 81.0\n",
      "99.3 percentile value is 88.0\n",
      "99.4 percentile value is 96.0\n",
      "99.5 percentile value is 106.0\n",
      "99.6 percentile value is 120.0\n",
      "99.7 percentile value is 141.0\n",
      "99.8 percentile value is 175.0\n",
      "99.9 percentile value is 247.0\n",
      "100.0 percentile value is 4841.0\n"
     ]
    }
   ],
   "source": [
    "### 99-100 percentile in training \n",
    "for i in range(10,110,10):\n",
    "    print(99+(i/100),'percentile value is',np.percentile(indegree_dist,99+(i/100)))"
   ]
  },
  {
   "cell_type": "code",
   "execution_count": 47,
   "metadata": {},
   "outputs": [
    {
     "data": {
      "image/png": "[encoded data removed]",
      "text/plain": [
       "<Figure size 842.4x595.44 with 1 Axes>"
      ]
     },
     "metadata": {},
     "output_type": "display_data"
    }
   ],
   "source": [
    "%matplotlib inline\n",
    "sns.set_style('ticks')\n",
    "fig, ax = plt.subplots()\n",
    "fig.set_size_inches(11.7, 8.27)\n",
    "sns.distplot(indegree_dist, color='#16A085')\n",
    "plt.xlabel('PDF of Indegree')\n",
    "sns.despine()\n",
    "#plt.show()"
   ]
  },
  {
   "cell_type": "code",
   "execution_count": 48,
   "metadata": {},
   "outputs": [
    {
     "data": {
      "image/png": "[encoded data removed]",
      "text/plain": [
       "<Figure size 720x432 with 1 Axes>"
      ]
     },
     "metadata": {},
     "output_type": "display_data"
    }
   ],
   "source": [
    "# Number of people each user is following\n",
    "outdegree_dist = list(dict(G.out_degree()).values())\n",
    "outdegree_dist.sort()\n",
    "plt.figure(figsize=(10,6))\n",
    "plt.plot(outdegree_dist)\n",
    "plt.xlabel('Index No')\n",
    "plt.ylabel('No Of people each person is following')\n",
    "plt.show()"
   ]
  },
  {
   "cell_type": "code",
   "execution_count": 88,
   "metadata": {},
   "outputs": [
    {
     "data": {
      "image/png": "[encoded data removed]",
      "text/plain": [
       "<Figure size 720x432 with 1 Axes>"
      ]
     },
     "metadata": {},
     "output_type": "display_data"
    }
   ],
   "source": [
    "# Number of people each user is following\n",
    "outdegree_dist_test = list(dict(Gtest.out_degree()).values())\n",
    "outdegree_dist.sort()\n",
    "plt.figure(figsize=(10,6))\n",
    "plt.plot(outdegree_dist_test)\n",
    "plt.xlabel('Index No')\n",
    "plt.ylabel('No Of people each person is following')\n",
    "plt.show()"
   ]
  },
  {
   "cell_type": "code",
   "execution_count": 49,
   "metadata": {},
   "outputs": [
    {
     "name": "stdout",
     "output_type": "stream",
     "text": [
      "90 percentile value is 0.0\n",
      "91 percentile value is 0.0\n",
      "92 percentile value is 0.0\n",
      "93 percentile value is 0.0\n",
      "94 percentile value is 0.0\n",
      "95 percentile value is 0.0\n",
      "96 percentile value is 0.0\n",
      "97 percentile value is 0.0\n",
      "98 percentile value is 0.0\n",
      "99 percentile value is 0.0\n",
      "100 percentile value is 761793.0\n"
     ]
    }
   ],
   "source": [
    "### 90-100 percentile in training \n",
    "for i in range(0,11):\n",
    "    print(90+i,'percentile value is',np.percentile(outdegree_dist,90+i))"
   ]
  },
  {
   "cell_type": "code",
   "execution_count": 89,
   "metadata": {},
   "outputs": [
    {
     "name": "stdout",
     "output_type": "stream",
     "text": [
      "90 percentile value is 1.0\n",
      "91 percentile value is 1.0\n",
      "92 percentile value is 1.0\n",
      "93 percentile value is 1.0\n",
      "94 percentile value is 1.0\n",
      "95 percentile value is 1.0\n",
      "96 percentile value is 1.0\n",
      "97 percentile value is 1.0\n",
      "98 percentile value is 1.0\n",
      "99 percentile value is 1.0\n",
      "100 percentile value is 1.0\n"
     ]
    }
   ],
   "source": [
    "### 90-100 percentile in test \n",
    "for i in range(0,11):\n",
    "    print(90+i,'percentile value is',np.percentile(outdegree_dist_test,90+i))\n"
   ]
  },
  {
   "cell_type": "code",
   "execution_count": 50,
   "metadata": {},
   "outputs": [
    {
     "name": "stdout",
     "output_type": "stream",
     "text": [
      "99.1 percentile value is 0.0\n",
      "99.2 percentile value is 0.0\n",
      "99.3 percentile value is 0.0\n",
      "99.4 percentile value is 0.0\n",
      "99.5 percentile value is 0.0\n",
      "99.6 percentile value is 1.0\n",
      "99.7 percentile value is 59.0\n",
      "99.8 percentile value is 160.0\n",
      "99.9 percentile value is 481.0\n",
      "100.0 percentile value is 761793.0\n"
     ]
    }
   ],
   "source": [
    "### 99-100 percentile in training \n",
    "for i in range(10,110,10):\n",
    "    print(99+(i/100),'percentile value is',np.percentile(outdegree_dist,99+(i/100)))"
   ]
  },
  {
   "cell_type": "code",
   "execution_count": 90,
   "metadata": {},
   "outputs": [
    {
     "name": "stdout",
     "output_type": "stream",
     "text": [
      "99.1 percentile value is 1.0\n",
      "99.2 percentile value is 1.0\n",
      "99.3 percentile value is 1.0\n",
      "99.4 percentile value is 1.0\n",
      "99.5 percentile value is 1.0\n",
      "99.6 percentile value is 1.0\n",
      "99.7 percentile value is 1.0\n",
      "99.8 percentile value is 1.0\n",
      "99.9 percentile value is 1.0\n",
      "100.0 percentile value is 1.0\n"
     ]
    }
   ],
   "source": [
    "### 99-100 percentile in test \n",
    "for i in range(10,110,10):\n",
    "    print(99+(i/100),'percentile value is',np.percentile(outdegree_dist_test,99+(i/100)))"
   ]
  },
  {
   "cell_type": "code",
   "execution_count": 91,
   "metadata": {},
   "outputs": [
    {
     "data": {
      "image/png": "[encoded data removed]",
      "text/plain": [
       "<Figure size 842.4x595.44 with 1 Axes>"
      ]
     },
     "metadata": {},
     "output_type": "display_data"
    }
   ],
   "source": [
    "# plot for test\n",
    "sns.set_style('ticks')\n",
    "fig, ax = plt.subplots()\n",
    "fig.set_size_inches(11.7, 8.27)\n",
    "sns.distplot(outdegree_dist_test, color='#16A085')\n",
    "plt.xlabel('PDF of Outdegree')\n",
    "sns.despine()"
   ]
  },
  {
   "cell_type": "code",
   "execution_count": 54,
   "metadata": {},
   "outputs": [
    {
     "ename": "AttributeError",
     "evalue": "module 'seaborn' has no attribute 'displot'",
     "output_type": "error",
     "traceback": [
      "\u001b[0;31m---------------------------------------------------------------------------\u001b[0m",
      "\u001b[0;31mAttributeError\u001b[0m                            Traceback (most recent call last)",
      "\u001b[0;32m<ipython-input-54-4d1e914238f7>\u001b[0m in \u001b[0;36m<module>\u001b[0;34m\u001b[0m\n\u001b[1;32m      2\u001b[0m \u001b[0mfig\u001b[0m\u001b[0;34m,\u001b[0m \u001b[0max\u001b[0m \u001b[0;34m=\u001b[0m \u001b[0mplt\u001b[0m\u001b[0;34m.\u001b[0m\u001b[0msubplots\u001b[0m\u001b[0;34m(\u001b[0m\u001b[0;34m)\u001b[0m\u001b[0;34m\u001b[0m\u001b[0;34m\u001b[0m\u001b[0m\n\u001b[1;32m      3\u001b[0m \u001b[0mfig\u001b[0m\u001b[0;34m.\u001b[0m\u001b[0mset_size_inches\u001b[0m\u001b[0;34m(\u001b[0m\u001b[0;36m11.7\u001b[0m\u001b[0;34m,\u001b[0m \u001b[0;36m8.27\u001b[0m\u001b[0;34m)\u001b[0m\u001b[0;34m\u001b[0m\u001b[0;34m\u001b[0m\u001b[0m\n\u001b[0;32m----> 4\u001b[0;31m \u001b[0msns\u001b[0m\u001b[0;34m.\u001b[0m\u001b[0mdisplot\u001b[0m\u001b[0;34m(\u001b[0m\u001b[0moutdegree_dist\u001b[0m\u001b[0;34m,\u001b[0m \u001b[0mx\u001b[0m\u001b[0;34m=\u001b[0m\u001b[0;34m\"flipper_length_mm\"\u001b[0m\u001b[0;34m)\u001b[0m\u001b[0;34m\u001b[0m\u001b[0;34m\u001b[0m\u001b[0m\n\u001b[0m\u001b[1;32m      5\u001b[0m \u001b[0mplt\u001b[0m\u001b[0;34m.\u001b[0m\u001b[0mxlabel\u001b[0m\u001b[0;34m(\u001b[0m\u001b[0;34m'PDF of Outdegree'\u001b[0m\u001b[0;34m)\u001b[0m\u001b[0;34m\u001b[0m\u001b[0;34m\u001b[0m\u001b[0m\n\u001b[1;32m      6\u001b[0m \u001b[0msns\u001b[0m\u001b[0;34m.\u001b[0m\u001b[0mdespine\u001b[0m\u001b[0;34m(\u001b[0m\u001b[0;34m)\u001b[0m\u001b[0;34m\u001b[0m\u001b[0;34m\u001b[0m\u001b[0m\n",
      "\u001b[0;31mAttributeError\u001b[0m: module 'seaborn' has no attribute 'displot'"
     ]
    },
    {
     "data": {
      "image/png": "[encoded data removed]",
      "text/plain": [
       "<Figure size 842.4x595.44 with 1 Axes>"
      ]
     },
     "metadata": {},
     "output_type": "display_data"
    }
   ],
   "source": [
    "# plot for training \n",
    "sns.set_style('ticks')\n",
    "fig, ax = plt.subplots()\n",
    "fig.set_size_inches(11.7, 8.27)\n",
    "sns.distplot(outdegree_dist, color='#16A085')\n",
    "plt.xlabel('PDF of Outdegree')\n",
    "sns.despine()"
   ]
  },
  {
   "cell_type": "code",
   "execution_count": 58,
   "metadata": {},
   "outputs": [
    {
     "name": "stdout",
     "output_type": "stream",
     "text": [
      "No of persons having zero followers are 0 and % is 0.0\n"
     ]
    }
   ],
   "source": [
    "print('No of persons having zero followers are' ,sum(np.array(indegree_dist)==0),'and % is',\n",
    "                                sum(np.array(indegree_dist)==0)*100/len(indegree_dist) )"
   ]
  },
  {
   "cell_type": "code",
   "execution_count": 99,
   "metadata": {},
   "outputs": [
    {
     "name": "stdout",
     "output_type": "stream",
     "text": [
      "No of persons those are not following anyone are 4847566 and % is 99.59791548869808\n"
     ]
    }
   ],
   "source": [
    "print('No of persons those are not following anyone are' ,sum(np.array(outdegree_dist)==0),'and % is',\n",
    "        sum(np.array(outdegree_dist)==0)*100/len(outdegree_dist))"
   ]
  },
  {
   "cell_type": "code",
   "execution_count": 93,
   "metadata": {},
   "outputs": [
    {
     "name": "stdout",
     "output_type": "stream",
     "text": [
      "No of persons having zero followers are 4847566 and % is 0.0\n"
     ]
    }
   ],
   "source": [
    "print('No of persons having zero followers are' ,sum(np.array(outdegree_dist)==0),'and % is',\n",
    "                                sum(np.array(indegree_dist)==0)*100/len(indegree_dist) )"
   ]
  },
  {
   "cell_type": "code",
   "execution_count": 96,
   "metadata": {},
   "outputs": [
    {
     "name": "stdout",
     "output_type": "stream",
     "text": [
      "No of persons those are not not following anyone and also not having any followers are 0\n"
     ]
    }
   ],
   "source": [
    "count=0\n",
    "for i in G.nodes():\n",
    "    if len(list(G.predecessors(i)))==0 :\n",
    "        if len(list(G.successors(i)))==0:\n",
    "            count+=1\n",
    "print('No of persons those are not not following anyone and also not having any followers are',count)"
   ]
  },
  {
   "cell_type": "code",
   "execution_count": 100,
   "metadata": {},
   "outputs": [],
   "source": [
    "#both followers + following\n",
    "from collections import Counter\n",
    "dict_in = dict(G.in_degree())\n",
    "dict_out = dict(G.out_degree())\n",
    "d = Counter(dict_in) + Counter(dict_out)\n",
    "in_out_degree = np.array(list(d.values()))"
   ]
  },
  {
   "cell_type": "code",
   "execution_count": 101,
   "metadata": {},
   "outputs": [
    {
     "data": {
      "image/png": "[encoded data removed]",
      "text/plain": [
       "<Figure size 720x432 with 1 Axes>"
      ]
     },
     "metadata": {},
     "output_type": "display_data"
    }
   ],
   "source": [
    "in_out_degree_sort = sorted(in_out_degree)\n",
    "plt.figure(figsize=(10,6))\n",
    "plt.plot(in_out_degree_sort)\n",
    "plt.xlabel('Index No')\n",
    "plt.ylabel('No Of people each person is following + followers')\n",
    "plt.show()"
   ]
  },
  {
   "cell_type": "code",
   "execution_count": 62,
   "metadata": {},
   "outputs": [
    {
     "name": "stdout",
     "output_type": "stream",
     "text": [
      "90 percentile value is 7.0\n",
      "91 percentile value is 8.0\n",
      "92 percentile value is 10.0\n",
      "93 percentile value is 12.0\n",
      "94 percentile value is 14.0\n",
      "95 percentile value is 18.0\n",
      "96 percentile value is 24.0\n",
      "97 percentile value is 32.0\n",
      "98 percentile value is 47.0\n",
      "99 percentile value is 81.0\n",
      "100 percentile value is 766634.0\n"
     ]
    }
   ],
   "source": [
    "### 90-100 percentile\n",
    "for i in range(0,11):\n",
    "    print(90+i,'percentile value is',np.percentile(in_out_degree_sort,90+i))"
   ]
  },
  {
   "cell_type": "code",
   "execution_count": 63,
   "metadata": {},
   "outputs": [
    {
     "name": "stdout",
     "output_type": "stream",
     "text": [
      "99.1 percentile value is 87.0\n",
      "99.2 percentile value is 96.0\n",
      "99.3 percentile value is 105.0\n",
      "99.4 percentile value is 118.0\n",
      "99.5 percentile value is 136.0\n",
      "99.6 percentile value is 164.0\n",
      "99.7 percentile value is 211.0\n",
      "99.8 percentile value is 310.0\n",
      "99.9 percentile value is 645.0\n",
      "100.0 percentile value is 766634.0\n"
     ]
    }
   ],
   "source": [
    "### 99-100 percentile\n",
    "for i in range(10,110,10):\n",
    "    print(99+(i/100),'percentile value is',np.percentile(in_out_degree_sort,99+(i/100)))"
   ]
  },
  {
   "cell_type": "code",
   "execution_count": 64,
   "metadata": {},
   "outputs": [
    {
     "name": "stdout",
     "output_type": "stream",
     "text": [
      "Min of no of followers + following is 1\n",
      "2882534  persons having minimum no of followers + following\n"
     ]
    }
   ],
   "source": [
    "print('Min of no of followers + following is',in_out_degree.min())\n",
    "print(np.sum(in_out_degree==in_out_degree.min()),' persons having minimum no of followers + following')"
   ]
  },
  {
   "cell_type": "code",
   "execution_count": 65,
   "metadata": {},
   "outputs": [
    {
     "name": "stdout",
     "output_type": "stream",
     "text": [
      "Max of no of followers + following is 766634\n",
      "1  persons having maximum no of followers + following\n"
     ]
    }
   ],
   "source": [
    "print('Max of no of followers + following is',in_out_degree.max())\n",
    "print(np.sum(in_out_degree==in_out_degree.max()),' persons having maximum no of followers + following')"
   ]
  },
  {
   "cell_type": "code",
   "execution_count": 66,
   "metadata": {},
   "outputs": [
    {
     "name": "stdout",
     "output_type": "stream",
     "text": [
      "No of persons having followers + following less than 10 are 4469576\n"
     ]
    }
   ],
   "source": [
    "print('No of persons having followers + following less than 10 are',np.sum(in_out_degree<10))"
   ]
  },
  {
   "cell_type": "code",
   "execution_count": 67,
   "metadata": {},
   "outputs": [
    {
     "name": "stdout",
     "output_type": "stream",
     "text": [
      "No of weakly connected components 1\n",
      "weakly connected components wit 2 nodes 0\n"
     ]
    }
   ],
   "source": [
    "print('No of weakly connected components',len(list(nx.weakly_connected_components(G))))\n",
    "count=0\n",
    "for i in list(nx.weakly_connected_components(G)):\n",
    "    if len(i)==2:\n",
    "        count+=1\n",
    "print('weakly connected components wit 2 nodes',count)"
   ]
  },
  {
   "cell_type": "markdown",
   "metadata": {},
   "source": [
    "## First Sampling Method S1"
   ]
  },
  {
   "cell_type": "code",
   "execution_count": 32,
   "metadata": {},
   "outputs": [],
   "source": [
    "###generating missing edges (fake edges) from given graph (training data points)\n",
    "\n",
    "#getting all set of edges\n",
    "###generating bad edges from given graph\n",
    "#the dict will contain a tuple of 2 nodes as key and the value will be 1 is the nodes are connected else -1\n",
    "if not os.path.isfile('missing_edges_final.p'):\n",
    "    #getting all set of edges\n",
    "    r = csv.reader(open('train_noheader.csv','r'))\n",
    "    edges = dict()\n",
    "    for edge in r: # i.e. edge is present in train data\n",
    "        edges[(edge[0], edge[1])] = 1 # if edge is present in r \n",
    "        \n",
    "        \n",
    "    fake_edges = set([])\n",
    "    while (len(fake_edges)<23946602):\n",
    "        a=random.randint(1, 4867136)\n",
    "        b=random.randint(1, 4867136)\n",
    "        tmp = edges.get((a,b),-1)\n",
    "        if tmp == -1 and a!=b:\n",
    "            try:\n",
    "                 # adding points who less likely to be friends\n",
    "                if nx.shortest_path_length(G,source=a,target=b) > 2: # greater than 2 coz more dist. low prob. to become a frd. That is what we want as a data/edge to add or join.\n",
    "                    fake_edges.add((a,b))\n",
    "                else:\n",
    "                    continue  \n",
    "            except:  \n",
    "                    fake_edges.add((a,b))              \n",
    "        else:\n",
    "            continue\n",
    "    pickle.dump(fake_edges,open('missing_edges_final.p','wb'))\n",
    "else:\n",
    "    fake_edges = pickle.load(open('missing_edges_final.p','rb'))"
   ]
  },
  {
   "cell_type": "code",
   "execution_count": 33,
   "metadata": {},
   "outputs": [
    {
     "data": {
      "text/plain": [
       "23946602"
      ]
     },
     "execution_count": 33,
     "metadata": {},
     "output_type": "execute_result"
    }
   ],
   "source": [
    "len(edges)"
   ]
  },
  {
   "cell_type": "code",
   "execution_count": 34,
   "metadata": {},
   "outputs": [
    {
     "data": {
      "text/plain": [
       "23946602"
      ]
     },
     "execution_count": 34,
     "metadata": {},
     "output_type": "execute_result"
    }
   ],
   "source": [
    "len(missing_edges)"
   ]
  },
  {
   "cell_type": "code",
   "execution_count": 36,
   "metadata": {},
   "outputs": [
    {
     "name": "stdout",
     "output_type": "stream",
     "text": [
      "Number of nodes in the graph with edges 23946602\n",
      "Number of nodes in the graph without edges 23946602\n",
      "============================================================\n",
      "Number of nodes in the train data graph with edges 23946602 = 23946602\n",
      "Number of nodes in the train data graph without edges 23946602 = 23946602\n"
     ]
    }
   ],
   "source": [
    "df_pos = pd.read_csv('train_pairs.csv', index_col=[0])\n",
    "df_neg = pd.DataFrame(list(fake_edges), columns=['source', 'sink'])\n",
    "print(\"Number of nodes in the graph with edges\", df_pos.shape[0])\n",
    "print(\"Number of nodes in the graph without edges\", df_neg.shape[0])\n",
    "\n",
    "y_train_pos = np.ones(len(df_pos))\n",
    "y_train_neg = np.zeros(len(df_neg))\n",
    "               \n",
    "\n",
    "print('='*60)\n",
    "print(\"Number of nodes in the train data graph with edges\", df_pos.shape[0],\"=\",y_train_pos.shape[0])\n",
    "print(\"Number of nodes in the train data graph without edges\", df_pos.shape[0],\"=\", y_train_neg.shape[0])\n",
    "\n",
    "#removing header and saving\n",
    "df_pos.to_csv('train_pos.csv',header=False, index=False)\n",
    "\n",
    "df_neg.to_csv('train_neg.csv',header=False, index=False)\n"
   ]
  },
  {
   "cell_type": "code",
   "execution_count": 37,
   "metadata": {},
   "outputs": [
    {
     "data": {
      "text/html": [
       "<div>\n",
       "<style scoped>\n",
       "    .dataframe tbody tr th:only-of-type {\n",
       "        vertical-align: middle;\n",
       "    }\n",
       "\n",
       "    .dataframe tbody tr th {\n",
       "        vertical-align: top;\n",
       "    }\n",
       "\n",
       "    .dataframe thead th {\n",
       "        text-align: right;\n",
       "    }\n",
       "</style>\n",
       "<table border=\"1\" class=\"dataframe\">\n",
       "  <thead>\n",
       "    <tr style=\"text-align: right;\">\n",
       "      <th></th>\n",
       "      <th>source</th>\n",
       "      <th>sink</th>\n",
       "    </tr>\n",
       "  </thead>\n",
       "  <tbody>\n",
       "    <tr>\n",
       "      <th>0</th>\n",
       "      <td>540762</td>\n",
       "      <td>4366854</td>\n",
       "    </tr>\n",
       "    <tr>\n",
       "      <th>1</th>\n",
       "      <td>540762</td>\n",
       "      <td>4208653</td>\n",
       "    </tr>\n",
       "    <tr>\n",
       "      <th>2</th>\n",
       "      <td>540762</td>\n",
       "      <td>1313296</td>\n",
       "    </tr>\n",
       "    <tr>\n",
       "      <th>3</th>\n",
       "      <td>540762</td>\n",
       "      <td>94742</td>\n",
       "    </tr>\n",
       "    <tr>\n",
       "      <th>4</th>\n",
       "      <td>540762</td>\n",
       "      <td>1537559</td>\n",
       "    </tr>\n",
       "    <tr>\n",
       "      <th>...</th>\n",
       "      <td>...</td>\n",
       "      <td>...</td>\n",
       "    </tr>\n",
       "    <tr>\n",
       "      <th>23946597</th>\n",
       "      <td>3547024</td>\n",
       "      <td>1108982</td>\n",
       "    </tr>\n",
       "    <tr>\n",
       "      <th>23946598</th>\n",
       "      <td>3547024</td>\n",
       "      <td>2831094</td>\n",
       "    </tr>\n",
       "    <tr>\n",
       "      <th>23946599</th>\n",
       "      <td>3547024</td>\n",
       "      <td>554490</td>\n",
       "    </tr>\n",
       "    <tr>\n",
       "      <th>23946600</th>\n",
       "      <td>3547024</td>\n",
       "      <td>2973692</td>\n",
       "    </tr>\n",
       "    <tr>\n",
       "      <th>23946601</th>\n",
       "      <td>3547024</td>\n",
       "      <td>4545022</td>\n",
       "    </tr>\n",
       "  </tbody>\n",
       "</table>\n",
       "<p>23946602 rows × 2 columns</p>\n",
       "</div>"
      ],
      "text/plain": [
       "           source     sink\n",
       "0          540762  4366854\n",
       "1          540762  4208653\n",
       "2          540762  1313296\n",
       "3          540762    94742\n",
       "4          540762  1537559\n",
       "...           ...      ...\n",
       "23946597  3547024  1108982\n",
       "23946598  3547024  2831094\n",
       "23946599  3547024   554490\n",
       "23946600  3547024  2973692\n",
       "23946601  3547024  4545022\n",
       "\n",
       "[23946602 rows x 2 columns]"
      ]
     },
     "execution_count": 37,
     "metadata": {},
     "output_type": "execute_result"
    }
   ],
   "source": [
    "df_pos"
   ]
  },
  {
   "cell_type": "code",
   "execution_count": 38,
   "metadata": {},
   "outputs": [
    {
     "name": "stdout",
     "output_type": "stream",
     "text": [
      "============================================================\n",
      "Number of nodes in the train data graph with edges 23946602\n",
      "Number of nodes in the train data graph without edges 23946602\n"
     ]
    }
   ],
   "source": [
    "#final train data set\n",
    "\n",
    "    \n",
    "X_train_pos = pd.read_csv('train_pos.csv', names=['source', 'sink'])\n",
    "\n",
    "X_train_neg = pd.read_csv('train_neg.csv', names=['source', 'sink'])\n",
    "\n",
    "print('='*60)\n",
    "print(\"Number of nodes in the train data graph with edges\", X_train_pos.shape[0])\n",
    "print(\"Number of nodes in the train data graph without edges\", X_train_neg.shape[0])\n",
    "\n",
    "\n",
    "X_train = X_train_pos.append(X_train_neg,ignore_index=True)\n",
    "y_train = np.concatenate((y_train_pos,y_train_neg))\n",
    "\n",
    "X_train.to_csv('final_train.csv',header=False,index=False)\n",
    "\n",
    "pd.DataFrame(y_train.astype(int)).to_csv('train_y.csv',header=False,index=False)\n"
   ]
  },
  {
   "cell_type": "code",
   "execution_count": 39,
   "metadata": {},
   "outputs": [
    {
     "name": "stdout",
     "output_type": "stream",
     "text": [
      "Data points in train data (47893204, 2)\n",
      "Shape of traget variable in train (47893204,)\n"
     ]
    }
   ],
   "source": [
    "print(\"Data points in train data\",X_train.shape)\n",
    "print(\"Shape of traget variable in train\",y_train.shape)"
   ]
  },
  {
   "cell_type": "code",
   "execution_count": 46,
   "metadata": {},
   "outputs": [
    {
     "data": {
      "text/plain": [
       "array([1., 1., 1., ..., 0., 0., 0.])"
      ]
     },
     "execution_count": 46,
     "metadata": {},
     "output_type": "execute_result"
    }
   ],
   "source": [
    "y_train"
   ]
  },
  {
   "cell_type": "code",
   "execution_count": 45,
   "metadata": {},
   "outputs": [],
   "source": []
  },
  {
   "cell_type": "markdown",
   "metadata": {},
   "source": [
    "## Another Sampling method based on common source nodes S3"
   ]
  },
  {
   "cell_type": "code",
   "execution_count": 2,
   "metadata": {},
   "outputs": [
    {
     "ename": "KeyboardInterrupt",
     "evalue": "",
     "output_type": "error",
     "traceback": [
      "\u001b[0;31m---------------------------------------------------------------------------\u001b[0m",
      "\u001b[0;31mKeyboardInterrupt\u001b[0m                         Traceback (most recent call last)",
      "\u001b[0;32m<ipython-input-2-c2d89140205d>\u001b[0m in \u001b[0;36m<module>\u001b[0;34m\u001b[0m\n\u001b[1;32m      1\u001b[0m \u001b[0mtraining_d\u001b[0m\u001b[0;34m=\u001b[0m\u001b[0;34m{\u001b[0m\u001b[0;34m}\u001b[0m\u001b[0;34m\u001b[0m\u001b[0;34m\u001b[0m\u001b[0m\n\u001b[1;32m      2\u001b[0m \u001b[0;32mwith\u001b[0m \u001b[0mopen\u001b[0m\u001b[0;34m(\u001b[0m\u001b[0;34m'train.txt'\u001b[0m\u001b[0;34m,\u001b[0m\u001b[0;34m'r'\u001b[0m\u001b[0;34m)\u001b[0m \u001b[0;32mas\u001b[0m \u001b[0mf\u001b[0m\u001b[0;34m:\u001b[0m\u001b[0;34m\u001b[0m\u001b[0;34m\u001b[0m\u001b[0m\n\u001b[0;32m----> 3\u001b[0;31m     \u001b[0;32mfor\u001b[0m \u001b[0mline\u001b[0m \u001b[0;32min\u001b[0m \u001b[0mf\u001b[0m\u001b[0;34m:\u001b[0m\u001b[0;34m\u001b[0m\u001b[0;34m\u001b[0m\u001b[0m\n\u001b[0m\u001b[1;32m      4\u001b[0m         \u001b[0mneighbours\u001b[0m\u001b[0;34m=\u001b[0m\u001b[0;34m[\u001b[0m\u001b[0mint\u001b[0m\u001b[0;34m(\u001b[0m\u001b[0mi\u001b[0m\u001b[0;34m)\u001b[0m \u001b[0;32mfor\u001b[0m \u001b[0mi\u001b[0m \u001b[0;32min\u001b[0m \u001b[0mline\u001b[0m\u001b[0;34m.\u001b[0m\u001b[0msplit\u001b[0m\u001b[0;34m(\u001b[0m\u001b[0;34m)\u001b[0m\u001b[0;34m]\u001b[0m\u001b[0;34m\u001b[0m\u001b[0;34m\u001b[0m\u001b[0m\n\u001b[1;32m      5\u001b[0m         \u001b[0mtraining_d\u001b[0m\u001b[0;34m[\u001b[0m\u001b[0mneighbours\u001b[0m\u001b[0;34m[\u001b[0m\u001b[0;36m0\u001b[0m\u001b[0;34m]\u001b[0m\u001b[0;34m]\u001b[0m\u001b[0;34m=\u001b[0m\u001b[0mset\u001b[0m\u001b[0;34m(\u001b[0m\u001b[0;34m[\u001b[0m\u001b[0mneighbours\u001b[0m\u001b[0;34m[\u001b[0m\u001b[0mi\u001b[0m\u001b[0;34m+\u001b[0m\u001b[0;36m1\u001b[0m\u001b[0;34m]\u001b[0m \u001b[0;32mfor\u001b[0m \u001b[0mi\u001b[0m \u001b[0;32min\u001b[0m \u001b[0mrange\u001b[0m\u001b[0;34m(\u001b[0m\u001b[0mlen\u001b[0m\u001b[0;34m(\u001b[0m\u001b[0mneighbours\u001b[0m\u001b[0;34m)\u001b[0m\u001b[0;34m-\u001b[0m\u001b[0;36m1\u001b[0m\u001b[0;34m)\u001b[0m\u001b[0;34m]\u001b[0m\u001b[0;34m)\u001b[0m\u001b[0;34m\u001b[0m\u001b[0;34m\u001b[0m\u001b[0m\n",
      "\u001b[0;32m/opt/anaconda3/lib/python3.7/codecs.py\u001b[0m in \u001b[0;36mdecode\u001b[0;34m(self, input, final)\u001b[0m\n\u001b[1;32m    317\u001b[0m         \u001b[0;32mraise\u001b[0m \u001b[0mNotImplementedError\u001b[0m\u001b[0;34m\u001b[0m\u001b[0;34m\u001b[0m\u001b[0m\n\u001b[1;32m    318\u001b[0m \u001b[0;34m\u001b[0m\u001b[0m\n\u001b[0;32m--> 319\u001b[0;31m     \u001b[0;32mdef\u001b[0m \u001b[0mdecode\u001b[0m\u001b[0;34m(\u001b[0m\u001b[0mself\u001b[0m\u001b[0;34m,\u001b[0m \u001b[0minput\u001b[0m\u001b[0;34m,\u001b[0m \u001b[0mfinal\u001b[0m\u001b[0;34m=\u001b[0m\u001b[0;32mFalse\u001b[0m\u001b[0;34m)\u001b[0m\u001b[0;34m:\u001b[0m\u001b[0;34m\u001b[0m\u001b[0;34m\u001b[0m\u001b[0m\n\u001b[0m\u001b[1;32m    320\u001b[0m         \u001b[0;31m# decode input (taking the buffer into account)\u001b[0m\u001b[0;34m\u001b[0m\u001b[0;34m\u001b[0m\u001b[0;34m\u001b[0m\u001b[0m\n\u001b[1;32m    321\u001b[0m         \u001b[0mdata\u001b[0m \u001b[0;34m=\u001b[0m \u001b[0mself\u001b[0m\u001b[0;34m.\u001b[0m\u001b[0mbuffer\u001b[0m \u001b[0;34m+\u001b[0m \u001b[0minput\u001b[0m\u001b[0;34m\u001b[0m\u001b[0;34m\u001b[0m\u001b[0m\n",
      "\u001b[0;31mKeyboardInterrupt\u001b[0m: "
     ]
    }
   ],
   "source": [
    "training_d={}\n",
    "with open('train.txt','r') as f:\n",
    "    for line in f:\n",
    "        neighbours=[int(i) for i in line.split()]\n",
    "        training_d[neighbours[0]]=set([neighbours[i+1] for i in range(len(neighbours)-1)])\n",
    "\n",
    "def get_train_sources_and_sinks(file):\n",
    "    with open(file, 'r') as f:\n",
    "        sources=set()\n",
    "        sinks=set()\n",
    "        for line in f:\n",
    "            neighbours=[int(i) for i in line.split()]\n",
    "            sources.add(neighbours[0])\n",
    "            for i in range(len(neighbours)-1):\n",
    "                sinks.add(neighbours[i+1])\n",
    "        return sources,sinks"
   ]
  },
  {
   "cell_type": "code",
   "execution_count": null,
   "metadata": {},
   "outputs": [],
   "source": [
    "unique_sources_test = df_test['source'].unique() \n",
    "unique_sources_train = train_pairs['source'].unique()\n",
    "len(unique_sources_train)\n",
    "len(unique_sources_test)"
   ]
  },
  {
   "cell_type": "code",
   "execution_count": 42,
   "metadata": {},
   "outputs": [],
   "source": [
    "#to find common sources between source in test and train data sets\n",
    "unique_sources_train = set(unique_sources_train)\n",
    "common_unique_sources = unique_sources_train.intersection(unique_sources_test)"
   ]
  },
  {
   "cell_type": "code",
   "execution_count": null,
   "metadata": {},
   "outputs": [],
   "source": [
    "len(common_unique_sources)"
   ]
  },
  {
   "cell_type": "code",
   "execution_count": null,
   "metadata": {},
   "outputs": [],
   "source": [
    "common_unique_sources_aslist = list(common_unique_sources)\n",
    "\n",
    "print(common_unique_sources_aslist)"
   ]
  },
  {
   "cell_type": "code",
   "execution_count": 56,
   "metadata": {},
   "outputs": [],
   "source": [
    "def positive_sampling():\n",
    "    print(\"Positive sampling......\")\n",
    "    positive_samples=[]\n",
    "    count=0\n",
    "    for i in range(51100):\n",
    "        if (count % 1000 == 0):\n",
    "            print(count)\n",
    "        count+=1\n",
    "        source_random_index=random.randint(0,1999)\n",
    "        source=(list(common_unique_sources))[source_random_index]\n",
    "        origin_sinks=train_data[source] # origin_sinks is a set\n",
    "        try:\n",
    "            sink=random.choice(list(origin_sinks))\n",
    "            positive_samples.append((source,sink))\n",
    "        except:\n",
    "            # print(origin_sinks)\n",
    "            pass\n",
    "    print(len(positive_samples))\n",
    "    return positive_samples"
   ]
  },
  {
   "cell_type": "code",
   "execution_count": 57,
   "metadata": {},
   "outputs": [
    {
     "name": "stdout",
     "output_type": "stream",
     "text": [
      "Positive sampling......\n",
      "0\n",
      "1000\n",
      "2000\n",
      "3000\n",
      "4000\n",
      "5000\n",
      "6000\n",
      "7000\n",
      "8000\n",
      "9000\n",
      "10000\n",
      "11000\n",
      "12000\n",
      "13000\n",
      "14000\n",
      "15000\n",
      "16000\n",
      "17000\n",
      "18000\n",
      "19000\n",
      "20000\n",
      "21000\n",
      "22000\n",
      "23000\n",
      "24000\n",
      "25000\n",
      "26000\n",
      "27000\n",
      "28000\n",
      "29000\n",
      "30000\n",
      "31000\n",
      "32000\n",
      "33000\n",
      "34000\n",
      "35000\n",
      "36000\n",
      "37000\n",
      "38000\n",
      "39000\n",
      "40000\n",
      "41000\n",
      "42000\n",
      "43000\n",
      "44000\n",
      "45000\n",
      "46000\n",
      "47000\n",
      "48000\n",
      "49000\n",
      "50000\n",
      "51000\n",
      "51100\n"
     ]
    }
   ],
   "source": [
    "pos_samp = positive_sampling()"
   ]
  },
  {
   "cell_type": "code",
   "execution_count": 67,
   "metadata": {},
   "outputs": [],
   "source": [
    "np.save('positive_samples-V3.npy',np.array(pos_samp))"
   ]
  },
  {
   "cell_type": "code",
   "execution_count": 62,
   "metadata": {},
   "outputs": [
    {
     "name": "stdout",
     "output_type": "stream",
     "text": [
      "20000\n",
      "4867136\n"
     ]
    }
   ],
   "source": [
    "def get_train_sources_and_sinks(file):\n",
    "    with open(file, 'r') as train:\n",
    "        sources=set()\n",
    "        sinks=set()\n",
    "        for line in train:\n",
    "            neighbour_list=[int(i) for i in line.split()]\n",
    "            sources.add(neighbour_list[0])\n",
    "            for i in range(len(neighbour_list)-1):\n",
    "                sinks.add(neighbour_list[i+1])\n",
    "        return sources,sinks\n",
    "train_sources,train_sinks=get_train_sources_and_sinks('train.txt')\n",
    "print(len(train_sources))\n",
    "print(len(train_sinks))"
   ]
  },
  {
   "cell_type": "code",
   "execution_count": 63,
   "metadata": {},
   "outputs": [],
   "source": [
    "def negative_sampling():\n",
    "    print(\"Negative sampling......\")\n",
    "    negative_samples=[]\n",
    "    count = 0\n",
    "    for i in range(50020):\n",
    "        if (count % 1000 == 0):\n",
    "            print(count)\n",
    "        count+=1\n",
    "        source_random_index=random.randint(0,19999)\n",
    "        source=(list(train_sources))[source_random_index]\n",
    "        origin_sinks = train_data[source]\n",
    "        sink=random.choice(list(train_sinks))\n",
    "        if sink not in origin_sinks:\n",
    "            negative_samples.append((source, sink))\n",
    "    print(len(negative_samples))\n",
    "    return negative_samples"
   ]
  },
  {
   "cell_type": "code",
   "execution_count": 64,
   "metadata": {},
   "outputs": [
    {
     "name": "stdout",
     "output_type": "stream",
     "text": [
      "Negative sampling......\n",
      "0\n",
      "1000\n",
      "2000\n",
      "3000\n",
      "4000\n",
      "5000\n",
      "6000\n",
      "7000\n",
      "8000\n",
      "9000\n",
      "10000\n",
      "11000\n",
      "12000\n",
      "13000\n",
      "14000\n",
      "15000\n",
      "16000\n",
      "17000\n",
      "18000\n",
      "19000\n",
      "20000\n",
      "21000\n",
      "22000\n",
      "23000\n",
      "24000\n",
      "25000\n",
      "26000\n",
      "27000\n",
      "28000\n",
      "29000\n",
      "30000\n",
      "31000\n",
      "32000\n",
      "33000\n",
      "34000\n",
      "35000\n",
      "36000\n",
      "37000\n",
      "38000\n",
      "39000\n",
      "40000\n",
      "41000\n",
      "42000\n",
      "43000\n",
      "44000\n",
      "45000\n",
      "46000\n",
      "47000\n",
      "48000\n",
      "49000\n",
      "50000\n",
      "50003\n"
     ]
    }
   ],
   "source": [
    "neg_samp = negative_sampling()"
   ]
  },
  {
   "cell_type": "code",
   "execution_count": 68,
   "metadata": {},
   "outputs": [],
   "source": [
    "pos_df = pd.DataFrame(list(pos_samp))\n",
    "neg_df = pd.DataFrame(list(neg_samp))"
   ]
  },
  {
   "cell_type": "code",
   "execution_count": 70,
   "metadata": {},
   "outputs": [
    {
     "name": "stdout",
     "output_type": "stream",
     "text": [
      "============================================================\n",
      "Number of nodes in the train data graph with edges 51100 = 51100\n",
      "Number of nodes in the train data graph without edges 50003 = 50003\n"
     ]
    }
   ],
   "source": [
    "\n",
    "y_train_pos = np.ones(len(pos_samp_df))\n",
    "y_train_neg = np.zeros(len(neg_df))\n",
    "               \n",
    "\n",
    "print('='*60)\n",
    "print(\"Number of nodes in the train data graph with edges\", pos_samp_df.shape[0],\"=\",y_train_pos.shape[0])\n",
    "print(\"Number of nodes in the train data graph without edges\", neg_df.shape[0],\"=\", y_train_neg.shape[0])\n",
    "\n",
    "#removing header and saving\n",
    "pos_samp_df.to_csv('positive_samples-V3.csv',header=False,index=False)\n",
    "\n",
    "neg_df.to_csv('negative_samples-V3.csv',header=False,index=False)"
   ]
  },
  {
   "cell_type": "code",
   "execution_count": 71,
   "metadata": {},
   "outputs": [
    {
     "name": "stdout",
     "output_type": "stream",
     "text": [
      "============================================================\n",
      "Number of nodes in the train data graph with edges 51100\n",
      "Number of nodes in the train data graph without edges 50003\n"
     ]
    }
   ],
   "source": [
    "#final train data set\n",
    "\n",
    "    \n",
    "X_train_pos = pd.read_csv('positive_samples-V3.csv', names=['source', 'sink'])\n",
    "\n",
    "X_train_neg = pd.read_csv('negative_samples-V3.csv', names=['source', 'sink'])\n",
    "\n",
    "print('='*60)\n",
    "print(\"Number of nodes in the train data graph with edges\", X_train_pos.shape[0])\n",
    "print(\"Number of nodes in the train data graph without edges\", X_train_neg.shape[0])\n",
    "\n",
    "\n",
    "X_train = X_train_pos.append(X_train_neg,ignore_index=True)\n",
    "y_train = np.concatenate((y_train_pos,y_train_neg))\n",
    "\n",
    "X_train.to_csv('final_train-V3.csv',header=False,index=False)\n",
    "\n",
    "pd.DataFrame(y_train.astype(int)).to_csv('train_y-V3.csv',header=False,index=False)"
   ]
  },
  {
   "cell_type": "code",
   "execution_count": null,
   "metadata": {},
   "outputs": [],
   "source": []
  }
 ],
 "metadata": {
  "kernelspec": {
   "display_name": "Python 3",
   "language": "python",
   "name": "python3"
  },
  "language_info": {
   "codemirror_mode": {
    "name": "ipython",
    "version": 3
   },
   "file_extension": ".py",
   "mimetype": "text/x-python",
   "name": "python",
   "nbconvert_exporter": "python",
   "pygments_lexer": "ipython3",
   "version": "3.7.6"
  }
 },
 "nbformat": 4,
 "nbformat_minor": 4
}

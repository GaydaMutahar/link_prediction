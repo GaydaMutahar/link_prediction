{
 "cells": [
  {
   "cell_type": "code",
   "execution_count": 185,
   "metadata": {},
   "outputs": [],
   "source": [
    "from sklearn.ensemble import AdaBoostClassifier\n",
    "from sklearn import datasets\n",
    "# Import train_test_split function\n",
    "from sklearn.model_selection import train_test_split\n",
    "#Import scikit-learn metrics module for accuracy calculation\n",
    "from sklearn import metrics\n",
    "import networkx as nx\n",
    "import pandas as pd\n",
    "\n",
    "from sklearn.metrics import roc_curve\n",
    "from sklearn.metrics import roc_auc_score\n",
    "from matplotlib import pyplot\n",
    "\n",
    "import numpy as np\n",
    "import matplotlib.pyplot as plt\n",
    "import seaborn as sns\n",
    "from sklearn.model_selection import train_test_split\n",
    "from sklearn.neural_network import MLPClassifier\n",
    "from time import time\n",
    "import csv\n",
    "import pickle\n",
    "import statsmodels.formula.api as smf\n",
    "import os\n",
    "from tqdm import tqdm\n",
    "from pandas import HDFStore,DataFrame\n",
    "from pandas import read_hdf\n",
    "from numpy.random import seed\n",
    "from sklearn import model_selection\n",
    "from sklearn.metrics import classification_report, confusion_matrix"
   ]
  },
  {
   "cell_type": "code",
   "execution_count": 186,
   "metadata": {},
   "outputs": [
    {
     "name": "stdout",
     "output_type": "stream",
     "text": [
      "(101111, 8)\n"
     ]
    }
   ],
   "source": [
    "X =  pd.read_csv('train$.csv')\n",
    "\n",
    "y=X.Label\n",
    "\n",
    "print(X.shape)"
   ]
  },
  {
   "cell_type": "code",
   "execution_count": 187,
   "metadata": {},
   "outputs": [
    {
     "data": {
      "text/html": [
       "<div>\n",
       "<style scoped>\n",
       "    .dataframe tbody tr th:only-of-type {\n",
       "        vertical-align: middle;\n",
       "    }\n",
       "\n",
       "    .dataframe tbody tr th {\n",
       "        vertical-align: top;\n",
       "    }\n",
       "\n",
       "    .dataframe thead th {\n",
       "        text-align: right;\n",
       "    }\n",
       "</style>\n",
       "<table border=\"1\" class=\"dataframe\">\n",
       "  <thead>\n",
       "    <tr style=\"text-align: right;\">\n",
       "      <th></th>\n",
       "      <th>RA</th>\n",
       "      <th>JC</th>\n",
       "      <th>AA</th>\n",
       "      <th>PA</th>\n",
       "      <th>CSH</th>\n",
       "      <th>RSH</th>\n",
       "      <th>WIC</th>\n",
       "      <th>Label</th>\n",
       "    </tr>\n",
       "  </thead>\n",
       "  <tbody>\n",
       "    <tr>\n",
       "      <th>0</th>\n",
       "      <td>0.001851</td>\n",
       "      <td>0.002402</td>\n",
       "      <td>0.399403</td>\n",
       "      <td>108852</td>\n",
       "      <td>3</td>\n",
       "      <td>0.00000</td>\n",
       "      <td>0.000000</td>\n",
       "      <td>1</td>\n",
       "    </tr>\n",
       "    <tr>\n",
       "      <th>1</th>\n",
       "      <td>1.187737</td>\n",
       "      <td>0.002981</td>\n",
       "      <td>20.919812</td>\n",
       "      <td>41753600</td>\n",
       "      <td>110</td>\n",
       "      <td>0.00000</td>\n",
       "      <td>0.000000</td>\n",
       "      <td>1</td>\n",
       "    </tr>\n",
       "    <tr>\n",
       "      <th>2</th>\n",
       "      <td>0.000000</td>\n",
       "      <td>0.000000</td>\n",
       "      <td>0.000000</td>\n",
       "      <td>1278</td>\n",
       "      <td>0</td>\n",
       "      <td>0.00000</td>\n",
       "      <td>0.000000</td>\n",
       "      <td>1</td>\n",
       "    </tr>\n",
       "    <tr>\n",
       "      <th>3</th>\n",
       "      <td>0.172545</td>\n",
       "      <td>0.078947</td>\n",
       "      <td>1.652345</td>\n",
       "      <td>781</td>\n",
       "      <td>6</td>\n",
       "      <td>0.00000</td>\n",
       "      <td>0.000000</td>\n",
       "      <td>1</td>\n",
       "    </tr>\n",
       "    <tr>\n",
       "      <th>4</th>\n",
       "      <td>0.028818</td>\n",
       "      <td>0.141104</td>\n",
       "      <td>5.920194</td>\n",
       "      <td>34452</td>\n",
       "      <td>77</td>\n",
       "      <td>0.02301</td>\n",
       "      <td>2.066529</td>\n",
       "      <td>1</td>\n",
       "    </tr>\n",
       "    <tr>\n",
       "      <th>...</th>\n",
       "      <td>...</td>\n",
       "      <td>...</td>\n",
       "      <td>...</td>\n",
       "      <td>...</td>\n",
       "      <td>...</td>\n",
       "      <td>...</td>\n",
       "      <td>...</td>\n",
       "      <td>...</td>\n",
       "    </tr>\n",
       "    <tr>\n",
       "      <th>101106</th>\n",
       "      <td>0.000000</td>\n",
       "      <td>0.000000</td>\n",
       "      <td>0.000000</td>\n",
       "      <td>680</td>\n",
       "      <td>0</td>\n",
       "      <td>0.00000</td>\n",
       "      <td>0.000000</td>\n",
       "      <td>0</td>\n",
       "    </tr>\n",
       "    <tr>\n",
       "      <th>101107</th>\n",
       "      <td>0.000000</td>\n",
       "      <td>0.000000</td>\n",
       "      <td>0.000000</td>\n",
       "      <td>819</td>\n",
       "      <td>0</td>\n",
       "      <td>0.00000</td>\n",
       "      <td>0.000000</td>\n",
       "      <td>0</td>\n",
       "    </tr>\n",
       "    <tr>\n",
       "      <th>101108</th>\n",
       "      <td>0.000000</td>\n",
       "      <td>0.000000</td>\n",
       "      <td>0.000000</td>\n",
       "      <td>38</td>\n",
       "      <td>0</td>\n",
       "      <td>0.00000</td>\n",
       "      <td>0.000000</td>\n",
       "      <td>0</td>\n",
       "    </tr>\n",
       "    <tr>\n",
       "      <th>101109</th>\n",
       "      <td>0.000000</td>\n",
       "      <td>0.000000</td>\n",
       "      <td>0.000000</td>\n",
       "      <td>37</td>\n",
       "      <td>0</td>\n",
       "      <td>0.00000</td>\n",
       "      <td>0.000000</td>\n",
       "      <td>0</td>\n",
       "    </tr>\n",
       "    <tr>\n",
       "      <th>101110</th>\n",
       "      <td>0.000000</td>\n",
       "      <td>0.000000</td>\n",
       "      <td>0.000000</td>\n",
       "      <td>248</td>\n",
       "      <td>0</td>\n",
       "      <td>0.00000</td>\n",
       "      <td>0.000000</td>\n",
       "      <td>0</td>\n",
       "    </tr>\n",
       "  </tbody>\n",
       "</table>\n",
       "<p>101111 rows × 8 columns</p>\n",
       "</div>"
      ],
      "text/plain": [
       "              RA        JC         AA        PA  CSH      RSH       WIC  Label\n",
       "0       0.001851  0.002402   0.399403    108852    3  0.00000  0.000000      1\n",
       "1       1.187737  0.002981  20.919812  41753600  110  0.00000  0.000000      1\n",
       "2       0.000000  0.000000   0.000000      1278    0  0.00000  0.000000      1\n",
       "3       0.172545  0.078947   1.652345       781    6  0.00000  0.000000      1\n",
       "4       0.028818  0.141104   5.920194     34452   77  0.02301  2.066529      1\n",
       "...          ...       ...        ...       ...  ...      ...       ...    ...\n",
       "101106  0.000000  0.000000   0.000000       680    0  0.00000  0.000000      0\n",
       "101107  0.000000  0.000000   0.000000       819    0  0.00000  0.000000      0\n",
       "101108  0.000000  0.000000   0.000000        38    0  0.00000  0.000000      0\n",
       "101109  0.000000  0.000000   0.000000        37    0  0.00000  0.000000      0\n",
       "101110  0.000000  0.000000   0.000000       248    0  0.00000  0.000000      0\n",
       "\n",
       "[101111 rows x 8 columns]"
      ]
     },
     "execution_count": 187,
     "metadata": {},
     "output_type": "execute_result"
    }
   ],
   "source": [
    "X"
   ]
  },
  {
   "cell_type": "code",
   "execution_count": 188,
   "metadata": {},
   "outputs": [],
   "source": [
    "test_data = pd.read_csv('test$.csv')"
   ]
  },
  {
   "cell_type": "code",
   "execution_count": 189,
   "metadata": {},
   "outputs": [
    {
     "data": {
      "text/html": [
       "<div>\n",
       "<style scoped>\n",
       "    .dataframe tbody tr th:only-of-type {\n",
       "        vertical-align: middle;\n",
       "    }\n",
       "\n",
       "    .dataframe tbody tr th {\n",
       "        vertical-align: top;\n",
       "    }\n",
       "\n",
       "    .dataframe thead th {\n",
       "        text-align: right;\n",
       "    }\n",
       "</style>\n",
       "<table border=\"1\" class=\"dataframe\">\n",
       "  <thead>\n",
       "    <tr style=\"text-align: right;\">\n",
       "      <th></th>\n",
       "      <th>RA</th>\n",
       "      <th>JC</th>\n",
       "      <th>AA</th>\n",
       "      <th>PA</th>\n",
       "      <th>CSH</th>\n",
       "      <th>RSH</th>\n",
       "      <th>WIC</th>\n",
       "    </tr>\n",
       "  </thead>\n",
       "  <tbody>\n",
       "    <tr>\n",
       "      <th>0</th>\n",
       "      <td>0.000000</td>\n",
       "      <td>0.000000</td>\n",
       "      <td>0.000000</td>\n",
       "      <td>667</td>\n",
       "      <td>0</td>\n",
       "      <td>0.000000</td>\n",
       "      <td>0.0</td>\n",
       "    </tr>\n",
       "    <tr>\n",
       "      <th>1</th>\n",
       "      <td>0.000000</td>\n",
       "      <td>0.000000</td>\n",
       "      <td>0.000000</td>\n",
       "      <td>666</td>\n",
       "      <td>0</td>\n",
       "      <td>0.000000</td>\n",
       "      <td>0.0</td>\n",
       "    </tr>\n",
       "    <tr>\n",
       "      <th>2</th>\n",
       "      <td>0.004624</td>\n",
       "      <td>0.011152</td>\n",
       "      <td>0.462729</td>\n",
       "      <td>4335</td>\n",
       "      <td>6</td>\n",
       "      <td>0.004624</td>\n",
       "      <td>3000.0</td>\n",
       "    </tr>\n",
       "    <tr>\n",
       "      <th>3</th>\n",
       "      <td>0.000028</td>\n",
       "      <td>0.003670</td>\n",
       "      <td>0.178805</td>\n",
       "      <td>18396</td>\n",
       "      <td>2</td>\n",
       "      <td>0.000000</td>\n",
       "      <td>0.0</td>\n",
       "    </tr>\n",
       "    <tr>\n",
       "      <th>4</th>\n",
       "      <td>0.000000</td>\n",
       "      <td>0.000000</td>\n",
       "      <td>0.000000</td>\n",
       "      <td>966</td>\n",
       "      <td>0</td>\n",
       "      <td>0.000000</td>\n",
       "      <td>0.0</td>\n",
       "    </tr>\n",
       "    <tr>\n",
       "      <th>...</th>\n",
       "      <td>...</td>\n",
       "      <td>...</td>\n",
       "      <td>...</td>\n",
       "      <td>...</td>\n",
       "      <td>...</td>\n",
       "      <td>...</td>\n",
       "      <td>...</td>\n",
       "    </tr>\n",
       "    <tr>\n",
       "      <th>1995</th>\n",
       "      <td>0.000000</td>\n",
       "      <td>0.000000</td>\n",
       "      <td>0.000000</td>\n",
       "      <td>116</td>\n",
       "      <td>0</td>\n",
       "      <td>0.000000</td>\n",
       "      <td>0.0</td>\n",
       "    </tr>\n",
       "    <tr>\n",
       "      <th>1996</th>\n",
       "      <td>0.000049</td>\n",
       "      <td>0.006061</td>\n",
       "      <td>0.100722</td>\n",
       "      <td>5125</td>\n",
       "      <td>1</td>\n",
       "      <td>0.000000</td>\n",
       "      <td>0.0</td>\n",
       "    </tr>\n",
       "    <tr>\n",
       "      <th>1997</th>\n",
       "      <td>0.000000</td>\n",
       "      <td>0.000000</td>\n",
       "      <td>0.000000</td>\n",
       "      <td>58</td>\n",
       "      <td>0</td>\n",
       "      <td>0.000000</td>\n",
       "      <td>0.0</td>\n",
       "    </tr>\n",
       "    <tr>\n",
       "      <th>1998</th>\n",
       "      <td>0.000000</td>\n",
       "      <td>0.000000</td>\n",
       "      <td>0.000000</td>\n",
       "      <td>171</td>\n",
       "      <td>0</td>\n",
       "      <td>0.000000</td>\n",
       "      <td>0.0</td>\n",
       "    </tr>\n",
       "    <tr>\n",
       "      <th>1999</th>\n",
       "      <td>0.000000</td>\n",
       "      <td>0.000000</td>\n",
       "      <td>0.000000</td>\n",
       "      <td>502</td>\n",
       "      <td>0</td>\n",
       "      <td>0.000000</td>\n",
       "      <td>0.0</td>\n",
       "    </tr>\n",
       "  </tbody>\n",
       "</table>\n",
       "<p>2000 rows × 7 columns</p>\n",
       "</div>"
      ],
      "text/plain": [
       "            RA        JC        AA     PA  CSH       RSH     WIC\n",
       "0     0.000000  0.000000  0.000000    667    0  0.000000     0.0\n",
       "1     0.000000  0.000000  0.000000    666    0  0.000000     0.0\n",
       "2     0.004624  0.011152  0.462729   4335    6  0.004624  3000.0\n",
       "3     0.000028  0.003670  0.178805  18396    2  0.000000     0.0\n",
       "4     0.000000  0.000000  0.000000    966    0  0.000000     0.0\n",
       "...        ...       ...       ...    ...  ...       ...     ...\n",
       "1995  0.000000  0.000000  0.000000    116    0  0.000000     0.0\n",
       "1996  0.000049  0.006061  0.100722   5125    1  0.000000     0.0\n",
       "1997  0.000000  0.000000  0.000000     58    0  0.000000     0.0\n",
       "1998  0.000000  0.000000  0.000000    171    0  0.000000     0.0\n",
       "1999  0.000000  0.000000  0.000000    502    0  0.000000     0.0\n",
       "\n",
       "[2000 rows x 7 columns]"
      ]
     },
     "execution_count": 189,
     "metadata": {},
     "output_type": "execute_result"
    }
   ],
   "source": [
    "test_data"
   ]
  },
  {
   "cell_type": "code",
   "execution_count": 190,
   "metadata": {},
   "outputs": [],
   "source": [
    "X.drop(['Label'],axis=1,inplace=True)"
   ]
  },
  {
   "cell_type": "code",
   "execution_count": 191,
   "metadata": {},
   "outputs": [
    {
     "data": {
      "text/plain": [
       "0         1\n",
       "1         1\n",
       "2         1\n",
       "3         1\n",
       "4         1\n",
       "         ..\n",
       "101106    0\n",
       "101107    0\n",
       "101108    0\n",
       "101109    0\n",
       "101110    0\n",
       "Name: Label, Length: 101111, dtype: int64"
      ]
     },
     "execution_count": 191,
     "metadata": {},
     "output_type": "execute_result"
    }
   ],
   "source": [
    "y"
   ]
  },
  {
   "cell_type": "code",
   "execution_count": 192,
   "metadata": {},
   "outputs": [],
   "source": [
    "X.drop(['PA'],axis=1,inplace=True)"
   ]
  },
  {
   "cell_type": "code",
   "execution_count": 193,
   "metadata": {},
   "outputs": [],
   "source": [
    "test_data.drop(['PA'],axis=1,inplace=True)"
   ]
  },
  {
   "cell_type": "code",
   "execution_count": 194,
   "metadata": {},
   "outputs": [
    {
     "data": {
      "text/plain": [
       "(2000, 6)"
      ]
     },
     "execution_count": 194,
     "metadata": {},
     "output_type": "execute_result"
    }
   ],
   "source": [
    "test_data.shape"
   ]
  },
  {
   "cell_type": "code",
   "execution_count": 195,
   "metadata": {},
   "outputs": [],
   "source": [
    "# X.drop(['RSH','PA'],axis=1,inplace=True)\n",
    "\n",
    "# test_data.drop(['RSH','PA'],axis=1,inplace=True)"
   ]
  },
  {
   "cell_type": "code",
   "execution_count": 196,
   "metadata": {},
   "outputs": [],
   "source": [
    "X_train, X_test, y_train, y_test = train_test_split(X, y, test_size=0.3)"
   ]
  },
  {
   "cell_type": "code",
   "execution_count": 197,
   "metadata": {},
   "outputs": [],
   "source": [
    "\n",
    "# from sklearn.datasets import make_classification\n",
    "# from sklearn.model_selection import GridSearchCV\n",
    "# #Creating a grid of \n",
    "# hyperparametersgrid_params = {    'n_estimators': [100,200,300]}#Building a 3 fold CV GridSearchCV \n",
    "# objectgrid_object = GridSearchCV(estimator = ada_boost, param_grid = grid_params, scoring = 'accuracy', cv = 3, n_jobs = -1)#Fitting the grid to the training \n",
    "# datagrid_object.fit(X_train, y_train)"
   ]
  },
  {
   "cell_type": "code",
   "execution_count": null,
   "metadata": {},
   "outputs": [],
   "source": []
  },
  {
   "cell_type": "code",
   "execution_count": 198,
   "metadata": {},
   "outputs": [],
   "source": [
    "mymodel = AdaBoostClassifier(n_estimators=500,learning_rate=0.001)\n",
    " "
   ]
  },
  {
   "cell_type": "code",
   "execution_count": 199,
   "metadata": {},
   "outputs": [],
   "source": [
    "# Train Adaboost Classifer\n",
    "model = mymodel.fit(X_train, y_train)"
   ]
  },
  {
   "cell_type": "code",
   "execution_count": 200,
   "metadata": {},
   "outputs": [
    {
     "name": "stdout",
     "output_type": "stream",
     "text": [
      "Accuracy: 85.02%\n"
     ]
    }
   ],
   "source": [
    "result = model.score(X_train,y_train)\n",
    "print(\"Accuracy: %.2f%%\" % (result*100.0))"
   ]
  },
  {
   "cell_type": "code",
   "execution_count": 183,
   "metadata": {},
   "outputs": [
    {
     "name": "stdout",
     "output_type": "stream",
     "text": [
      "Accuracy: 85.24%\n"
     ]
    }
   ],
   "source": [
    "result = model.score(X_test, y_test)\n",
    "print(\"Accuracy: %.2f%%\" % (result*100.0))"
   ]
  },
  {
   "cell_type": "code",
   "execution_count": 201,
   "metadata": {},
   "outputs": [
    {
     "name": "stdout",
     "output_type": "stream",
     "text": [
      "0.8477615876574142\n",
      "0.8635633739366547\n"
     ]
    }
   ],
   "source": [
    "pre=model.predict_proba(X_test)\n",
    "# print(pre)\n",
    "y_pre=[p[1] for p in pre]\n",
    "acc=model.score(X_test,y_test)\n",
    "print(acc)\n",
    "auc=roc_auc_score(y_test,y_pre)\n",
    "print(auc)"
   ]
  },
  {
   "cell_type": "code",
   "execution_count": 202,
   "metadata": {},
   "outputs": [
    {
     "name": "stdout",
     "output_type": "stream",
     "text": [
      "Accuracy: 84.56%\n"
     ]
    }
   ],
   "source": [
    "# another try to fit and evaluate the model using K-fold Cross-Validation\n",
    "# this validation startegy improves the performance of the model and could be a better model validation strategy\n",
    "kfold = model_selection.KFold(n_splits=10, random_state=None)\n",
    "model_kfold = mymodel.fit(X,y) \n",
    "results_kfold = model_selection.cross_val_score(model_kfold, X, y, cv=kfold)\n",
    "print(\"Accuracy: %.2f%%\" % (results_kfold.mean()*100.0)) "
   ]
  },
  {
   "cell_type": "code",
   "execution_count": 203,
   "metadata": {},
   "outputs": [
    {
     "name": "stdout",
     "output_type": "stream",
     "text": [
      "Accuracy: 84.96%\n"
     ]
    }
   ],
   "source": [
    "result = model.score(X, y)\n",
    "print(\"Accuracy: %.2f%%\" % (result*100.0))"
   ]
  },
  {
   "cell_type": "code",
   "execution_count": 204,
   "metadata": {},
   "outputs": [],
   "source": [
    "# Evaluation metrics\n",
    "from sklearn.metrics import roc_curve, auc, roc_auc_score, confusion_matrix, f1_score"
   ]
  },
  {
   "cell_type": "code",
   "execution_count": 205,
   "metadata": {},
   "outputs": [
    {
     "name": "stdout",
     "output_type": "stream",
     "text": [
      "0.8480582844333091\n",
      "0.8636167342244835\n"
     ]
    }
   ],
   "source": [
    "pre=model.predict_proba(X_test)\n",
    "# print(pre)\n",
    "y_pre=[p[1] for p in pre]\n",
    "acc=model.score(X_test,y_test)\n",
    "print(acc)\n",
    "auc=roc_auc_score(y_test,y_pre)\n",
    "print(auc)"
   ]
  },
  {
   "cell_type": "code",
   "execution_count": 206,
   "metadata": {},
   "outputs": [
    {
     "data": {
      "text/plain": [
       "(2000, 6)"
      ]
     },
     "execution_count": 206,
     "metadata": {},
     "output_type": "execute_result"
    }
   ],
   "source": [
    "test_data.shape"
   ]
  },
  {
   "cell_type": "code",
   "execution_count": 208,
   "metadata": {},
   "outputs": [],
   "source": [
    "predictions=model.predict_proba(test_data)"
   ]
  },
  {
   "cell_type": "code",
   "execution_count": 209,
   "metadata": {},
   "outputs": [],
   "source": [
    "with open(\"ada3.csv\",\"w\",newline=\"\") as csvfile:\n",
    "    writer=csv.writer(csvfile)\n",
    "    writer.writerow([\"Id\",\"Predicted\"])\n",
    "    test_id=1\n",
    "    for prediction in predictions:\n",
    "        writer.writerow([test_id,prediction[1]])\n",
    "        test_id+=1"
   ]
  },
  {
   "cell_type": "code",
   "execution_count": null,
   "metadata": {},
   "outputs": [],
   "source": []
  }
 ],
 "metadata": {
  "kernelspec": {
   "display_name": "Python 3",
   "language": "python",
   "name": "python3"
  },
  "language_info": {
   "codemirror_mode": {
    "name": "ipython",
    "version": 3
   },
   "file_extension": ".py",
   "mimetype": "text/x-python",
   "name": "python",
   "nbconvert_exporter": "python",
   "pygments_lexer": "ipython3",
   "version": "3.7.6"
  }
 },
 "nbformat": 4,
 "nbformat_minor": 4
}
